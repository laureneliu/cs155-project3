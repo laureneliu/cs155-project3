{
 "cells": [
  {
   "cell_type": "code",
   "execution_count": null,
   "metadata": {},
   "outputs": [],
   "source": [
    "import numpy as np\n",
    "from tqdm import tqdm\n",
    "import re"
   ]
  },
  {
   "cell_type": "markdown",
   "metadata": {},
   "source": [
    "# Load and preprocess"
   ]
  },
  {
   "cell_type": "code",
   "execution_count": null,
   "metadata": {},
   "outputs": [],
   "source": [
    "# Load Shakespeare.txt\n",
    "# Punctuation, including \\n, included as separate \"words\"\n",
    "# TODO: add syllable info\n",
    "# TODO: HMM currently sucks, probably because I haven't done ^^^, and maybe because I need to do additional preprocessing somehow\n",
    "# TODO: also easy to add rhyme (as in 'additional goals' section)\n",
    "downloaded = drive.CreateFile({'id':'1cwaY0yRvUNgggFytJpca_1Mao85bawQN'})\n",
    "downloaded.GetContentFile('filename.txt')\n",
    "\n",
    "data = []\n",
    "accum = []\n",
    "\n",
    "f = open('filename.txt')\n",
    "\n",
    "for line in f:\n",
    "  if len(line) == 1:\n",
    "    continue\n",
    "  words = line.split()\n",
    "  if len(words) == 1: # Line is only a number--beginning of new sonnet\n",
    "    if len(accum) != 0:\n",
    "      data.append(accum)\n",
    "      accum = []\n",
    "  else:\n",
    "    for word in words:\n",
    "      word = word.lower()\n",
    "      # Case: no punctuation at the end\n",
    "      if word[-1].isalpha(): \n",
    "        accum.append(word)\n",
    "      # Case: last character is punctuation mark\n",
    "      else:\n",
    "        accum.append(word[:-1])\n",
    "        accum.append(word[-1])\n",
    "    accum.append('\\n')\n",
    "\n",
    "data = np.array([np.array(seq) for seq in data])\n",
    "print(f'data.shape: {data.shape}')\n",
    "print('')\n",
    "print(f'data[0]: {data[0]}')"
   ]
  },
  {
   "cell_type": "code",
   "execution_count": null,
   "metadata": {},
   "outputs": [],
   "source": [
    "# HMM expects sequences of integers, not strings\n",
    "\n",
    "# mapping: character --> boolean array\n",
    "mapping = {}\n",
    "def get_mapping(k):\n",
    "  v = mapping.get(k, len(mapping))\n",
    "  if v == len(mapping):\n",
    "    mapping[k] = v\n",
    "  return v\n",
    "\n",
    "X1 = np.array([np.array([get_mapping(k) for k in seq]) for seq in data])\n",
    "\n",
    "mapping_rev = {v:k for k,v in mapping.items()}\n",
    "\n",
    "print(f'X1.shape: {X1.shape}')\n",
    "print('')\n",
    "print(f'X1[0]: {X1[0]}')"
   ]
  },
  {
   "cell_type": "code",
   "execution_count": null,
   "metadata": {},
   "outputs": [],
   "source": [
    "# hmmlearn in particular expects a single list of all observations, and a separate list of numbers indicating the length of each sequence\n",
    "# Also, each observation should be a list\n",
    "lengths = np.array([len(seq) for seq in X1])\n",
    "X = np.concatenate(X1).reshape((-1, 1))\n",
    "X,lengths"
   ]
  },
  {
   "cell_type": "markdown",
   "metadata": {},
   "source": [
    "# HMM"
   ]
  },
  {
   "cell_type": "code",
   "execution_count": null,
   "metadata": {},
   "outputs": [],
   "source": [
    "!pip install hmmlearn\n",
    "from hmmlearn import hmm"
   ]
  },
  {
   "cell_type": "code",
   "execution_count": null,
   "metadata": {},
   "outputs": [],
   "source": [
    "clfs = {i : hmm.MultinomialHMM(n_components=i, n_iter=1000) for i in range(5, 20)}\n",
    "for i, clf in clfs.items():\n",
    "  clf.fit(X, lengths)\n",
    "  print(f'{i}: {clf.monitor_}')"
   ]
  },
  {
   "cell_type": "code",
   "execution_count": null,
   "metadata": {},
   "outputs": [],
   "source": [
    "# Generate sonnet\n",
    "for i, clf in clfs.items():\n",
    "  sonnet, _ = clf.sample(len(data[1])) # Returns ([observations], [states])\n",
    "  sonnet = sonnet.reshape(len(sonnet)) # Each observation is a list; extract it\n",
    "  sonnet = ' '.join(mapping_rev[i] for i in sonnet)\n",
    "  print(f'{i}: {sonnet}\\n\\n')"
   ]
  }
 ],
 "metadata": {
  "kernelspec": {
   "display_name": "Python 3",
   "language": "python",
   "name": "python3"
  },
  "language_info": {
   "codemirror_mode": {
    "name": "ipython",
    "version": 3
   },
   "file_extension": ".py",
   "mimetype": "text/x-python",
   "name": "python",
   "nbconvert_exporter": "python",
   "pygments_lexer": "ipython3",
   "version": "3.7.4"
  }
 },
 "nbformat": 4,
 "nbformat_minor": 2
}
